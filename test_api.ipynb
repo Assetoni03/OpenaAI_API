{
  "cells": [
    {
      "cell_type": "code",
      "execution_count": null,
      "metadata": {},
      "outputs": [],
      "source": [
        "import pandas as pd\n",
        "import requests\n",
        "\n",
        "\n",
        "data_a = {\n",
        "    'Date': ['2021-01-01', '2021-01-02'],\n",
        "    'EmployeeName': ['John', 'Alice'],\n",
        "    'Plan': ['A', 'B'],\n",
        "    'PolicyNumber': ['P1', 'P2'],\n",
        "    'Premium': [100, 200]\n",
        "}\n",
        "data_b = {\n",
        "    'Date': ['2021-01-01', '2021-01-02'],\n",
        "    'EmployeeName': ['Alice', 'Bob'],\n",
        "    'Plan': ['B', 'C'],\n",
        "    'PolicyNumber': ['P2', 'P3'],\n",
        "    'Premium': [200, 300]\n",
        "}\n",
        "\n",
        "df_a = pd.DataFrame(data_a)\n",
        "df_b = pd.DataFrame(data_b)\n",
        "\n",
        "\n",
        "api_key = \"your_openai_api_key_here\"\n",
        "\n",
        "url = \"http://localhost:8000/upload/\"\n",
        "\n",
        "payload = {\"table_a\": df_a, \"table_b\": df_b, \"api_key\": api_key}\n",
        "response = requests.post(url, json=payload)\n",
        "\n",
        "if response.status_code == 200:\n",
        "    result = response.json()\n",
        "    print(result)\n",
        "else:\n",
        "    print(f\"Error {response.status_code}: {response.text}\")\n"
      ]
    }
  ],
  "metadata": {
    "accelerator": "TPU",
    "colab": {
      "provenance": []
    },
    "kernelspec": {
      "display_name": "Python 3.9.13 ('base')",
      "language": "python",
      "name": "python3"
    },
    "language_info": {
      "name": "python",
      "version": "3.9.13"
    },
    "vscode": {
      "interpreter": {
        "hash": "24e1067b9923ab85a4992aa1067fd58efb855e171567588ccbf45b6733ef952e"
      }
    }
  },
  "nbformat": 4,
  "nbformat_minor": 0
}
